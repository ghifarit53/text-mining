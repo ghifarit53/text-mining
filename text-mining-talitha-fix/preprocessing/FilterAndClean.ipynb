{
 "cells": [
  {
   "cell_type": "code",
   "execution_count": 24,
   "metadata": {},
   "outputs": [],
   "source": [
    "import pandas as pd\n",
    "import os\n",
    "import matplotlib.pyplot as plt"
   ]
  },
  {
   "cell_type": "code",
   "execution_count": 26,
   "metadata": {},
   "outputs": [
    {
     "data": {
      "text/plain": [
       "(6400, 6039, 7100, 7200)"
      ]
     },
     "execution_count": 26,
     "metadata": {},
     "output_type": "execute_result"
    }
   ],
   "source": [
    "dataset_dir = '../dataset'\n",
    "\n",
    "df_banjir = pd.read_csv(os.path.join(dataset_dir, 'Banjir-2018-2023.csv'))\n",
    "df_gempa = pd.read_csv(os.path.join(dataset_dir, 'Gempa Bumi-2018-2023.csv'))\n",
    "df_kebakaran = pd.read_csv(os.path.join(dataset_dir, 'Kebakaran-2018-2023.csv'))\n",
    "df_kecelakaan = pd.read_csv(os.path.join(dataset_dir, 'Kecelakaan-2018-2023.csv'))\n",
    "\n",
    "len(df_banjir), len(df_gempa), len(df_kebakaran), len(df_kecelakaan)"
   ]
  },
  {
   "cell_type": "code",
   "execution_count": 27,
   "metadata": {},
   "outputs": [],
   "source": [
    "df_banjir = df_banjir.drop(columns=['description', 'published date', 'url', 'publisher'])\n",
    "df_gempa = df_gempa.drop(columns=['description', 'published date', 'url', 'publisher'])\n",
    "df_kebakaran = df_kebakaran.drop(columns=['description', 'published date', 'url', 'publisher'])\n",
    "df_kecelakaan = df_kecelakaan.drop(columns=['description', 'published date', 'url', 'publisher'])"
   ]
  },
  {
   "cell_type": "code",
   "execution_count": 28,
   "metadata": {},
   "outputs": [],
   "source": [
    "def get_news_source(title: str):\n",
    "    # the last part of title after the '-' \n",
    "    # contains the news source\n",
    "    title = title.split('-')[-1].strip().lower()\n",
    "    return title\n",
    "\n",
    "def clean_title_from_source_name(title: str):\n",
    "    # only take the first part of the title\n",
    "    # before the '-'\n",
    "    title = title.split('-')[:-1]\n",
    "    title = ' '.join(title).strip()\n",
    "    return title"
   ]
  },
  {
   "cell_type": "code",
   "execution_count": 29,
   "metadata": {},
   "outputs": [],
   "source": [
    "df_banjir['publisher'] = df_banjir['title'].apply(get_news_source)\n",
    "df_gempa['publisher'] = df_gempa['title'].apply(get_news_source)\n",
    "df_kebakaran['publisher'] = df_kebakaran['title'].apply(get_news_source)\n",
    "df_kecelakaan['publisher'] = df_kecelakaan['title'].apply(get_news_source)"
   ]
  },
  {
   "cell_type": "code",
   "execution_count": 30,
   "metadata": {},
   "outputs": [],
   "source": [
    "df_banjir['title'] = df_banjir['title'].apply(clean_title_from_source_name)\n",
    "df_gempa['title'] = df_gempa['title'].apply(clean_title_from_source_name)\n",
    "df_kebakaran['title'] = df_kebakaran['title'].apply(clean_title_from_source_name)\n",
    "df_kecelakaan['title'] = df_kecelakaan['title'].apply(clean_title_from_source_name)"
   ]
  },
  {
   "cell_type": "code",
   "execution_count": 31,
   "metadata": {},
   "outputs": [],
   "source": [
    "# take count of each topic\n",
    "count_banjir = df_banjir['publisher'].value_counts()\n",
    "count_gempa = df_gempa['publisher'].value_counts()\n",
    "count_kebakaran = df_kebakaran['publisher'].value_counts()\n",
    "count_kecelakaan = df_kecelakaan['publisher'].value_counts()"
   ]
  },
  {
   "cell_type": "code",
   "execution_count": 32,
   "metadata": {},
   "outputs": [
    {
     "data": {
      "text/plain": [
       "publisher\n",
       "detiknews         3044.0\n",
       "kompas.com        2888.0\n",
       "antara            2105.0\n",
       "cnn indonesia     1688.0\n",
       "cnbc indonesia     779.0\n",
       "liputan6.com       651.0\n",
       "kumparan.com       635.0\n",
       "kompas.id          526.0\n",
       "bisnis.com         472.0\n",
       "tribunnews.com     380.0\n",
       "Name: count, dtype: float64"
      ]
     },
     "execution_count": 32,
     "metadata": {},
     "output_type": "execute_result"
    }
   ],
   "source": [
    "# combine all counts, take top 10\n",
    "count_combined = count_banjir.add(count_gempa, fill_value=0).add(count_kebakaran, fill_value=0).add(count_kecelakaan, fill_value=0)\n",
    "count_combined = count_combined.sort_values(ascending=False)\n",
    "top10 = count_combined.head(10)\n",
    "top10"
   ]
  },
  {
   "cell_type": "code",
   "execution_count": 33,
   "metadata": {},
   "outputs": [],
   "source": [
    "# drop news that are not from the top 10 publisher\n",
    "top10_list = top10.keys()\n",
    "df_banjir = df_banjir[df_banjir['publisher'].isin(list(top10_list))].reset_index(drop=True)\n",
    "df_gempa = df_gempa[df_gempa['publisher'].isin(list(top10_list))].reset_index(drop=True)\n",
    "df_kebakaran = df_kebakaran[df_kebakaran['publisher'].isin(list(top10_list))].reset_index(drop=True)\n",
    "df_kecelakaan = df_kecelakaan[df_kecelakaan['publisher'].isin(list(top10_list))].reset_index(drop=True)"
   ]
  },
  {
   "cell_type": "code",
   "execution_count": 34,
   "metadata": {},
   "outputs": [
    {
     "data": {
      "text/plain": [
       "(3462, 2776, 3494, 3436)"
      ]
     },
     "execution_count": 34,
     "metadata": {},
     "output_type": "execute_result"
    }
   ],
   "source": [
    "len(df_banjir), len(df_gempa), len(df_kebakaran), len(df_kecelakaan)"
   ]
  },
  {
   "cell_type": "code",
   "execution_count": 35,
   "metadata": {},
   "outputs": [],
   "source": [
    "def get_word_count(title: str):\n",
    "    wc = len(title.split(' '))\n",
    "    return wc\n",
    "\n",
    "df_banjir['word_count'] = df_banjir['title'].apply(get_word_count)\n",
    "df_gempa['word_count'] = df_gempa['title'].apply(get_word_count)\n",
    "df_kebakaran['word_count'] = df_kebakaran['title'].apply(get_word_count)\n",
    "df_kecelakaan['word_count'] = df_kecelakaan['title'].apply(get_word_count)"
   ]
  },
  {
   "cell_type": "code",
   "execution_count": 63,
   "metadata": {},
   "outputs": [
    {
     "data": {
      "image/png": "[encoded data removed]",
      "text/plain": [
       "<Figure size 640x480 with 1 Axes>"
      ]
     },
     "metadata": {},
     "output_type": "display_data"
    }
   ],
   "source": [
    "wc = pd.concat([df_banjir, df_gempa, df_kebakaran, df_kecelakaan])['word_count']\n",
    "fig, ax = plt.subplots()\n",
    "\n",
    "plt.hist(wc, bins=25, color='skyblue', edgecolor='white')\n",
    "ax.set_facecolor('white') \n",
    "\n",
    "plt.xlabel('Word Count')\n",
    "plt.ylabel('Frequency')\n",
    "plt.title('Histogram')\n",
    "\n",
    "plt.xticks(range(1, 25))\n",
    "\n",
    "plt.show()"
   ]
  },
  {
   "cell_type": "code",
   "execution_count": 13,
   "metadata": {},
   "outputs": [
    {
     "data": {
      "text/plain": [
       "(2812, 2321, 2941, 3168)"
      ]
     },
     "execution_count": 13,
     "metadata": {},
     "output_type": "execute_result"
    }
   ],
   "source": [
    "df_banjir = df_banjir.drop(index=df_banjir[df_banjir['word_count'] < 8].index)\n",
    "df_gempa = df_gempa.drop(index=df_gempa[df_gempa['word_count'] < 8].index)\n",
    "df_kebakaran = df_kebakaran.drop(index=df_kebakaran[df_kebakaran['word_count'] < 8].index)\n",
    "df_kecelakaan = df_kecelakaan.drop(index=df_kecelakaan[df_kecelakaan['word_count'] < 8].index)\n",
    "\n",
    "len(df_banjir), len(df_gempa), len(df_kebakaran), len(df_kecelakaan)"
   ]
  },
  {
   "cell_type": "code",
   "execution_count": 14,
   "metadata": {},
   "outputs": [],
   "source": [
    "df_banjir = df_banjir.drop(columns=['word_count', 'publisher'])\n",
    "df_gempa = df_gempa.drop(columns=['word_count', 'publisher'])\n",
    "df_kebakaran = df_kebakaran.drop(columns=['word_count', 'publisher'])\n",
    "df_kecelakaan = df_kecelakaan.drop(columns=['word_count', 'publisher'])"
   ]
  },
  {
   "cell_type": "code",
   "execution_count": 15,
   "metadata": {},
   "outputs": [],
   "source": [
    "output_dir = 'filtered'\n",
    "os.makedirs(output_dir, exist_ok=True)\n",
    "\n",
    "df_banjir.to_csv(os.path.join(output_dir, 'Banjir.csv'), index=False)\n",
    "df_gempa.to_csv(os.path.join(output_dir, 'Gempa Bumi.csv'), index=False)\n",
    "df_kebakaran.to_csv(os.path.join(output_dir, 'Kebakaran.csv'), index=False)\n",
    "df_kecelakaan.to_csv(os.path.join(output_dir, 'Kecelakaan.csv'), index=False)"
   ]
  },
  {
   "cell_type": "code",
   "execution_count": null,
   "metadata": {},
   "outputs": [],
   "source": []
  }
 ],
 "metadata": {
  "kernelspec": {
   "display_name": ".venv",
   "language": "python",
   "name": "python3"
  },
  "language_info": {
   "codemirror_mode": {
    "name": "ipython",
    "version": 3
   },
   "file_extension": ".py",
   "mimetype": "text/x-python",
   "name": "python",
   "nbconvert_exporter": "python",
   "pygments_lexer": "ipython3",
   "version": "3.9.19"
  }
 },
 "nbformat": 4,
 "nbformat_minor": 2
}
